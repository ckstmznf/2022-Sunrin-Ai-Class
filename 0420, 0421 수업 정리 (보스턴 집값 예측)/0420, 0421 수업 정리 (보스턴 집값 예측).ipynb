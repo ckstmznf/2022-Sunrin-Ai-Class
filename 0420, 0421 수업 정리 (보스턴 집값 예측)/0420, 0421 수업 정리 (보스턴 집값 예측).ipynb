{
 "cells": [
  {
   "cell_type": "markdown",
   "metadata": {},
   "source": [
    "# 0420 수업 정리\n",
    "- 보스턴 집 값 예측하기 프로젝트 시작\n",
    "- 방의 개수와 집값의 예측\n",
    "- 데이터 전처리"
   ]
  },
  {
   "cell_type": "markdown",
   "metadata": {},
   "source": [
    "# 0421 수업 요약\n",
    "- 데이터 학습"
   ]
  },
  {
   "cell_type": "code",
   "execution_count": 1,
   "metadata": {},
   "outputs": [
    {
     "name": "stdout",
     "output_type": "stream",
     "text": [
      "Hello World\n"
     ]
    }
   ],
   "source": [
    "import pandas as pd\n",
    "import numpy as np\n",
    "import matplotlib.pyplot as plt\n",
    "\n",
    "from sklearn.datasets import load_boston\n",
    "# 보스턴 집값 데이터\n",
    "\n",
    "from sklearn.linear_model import LinearRegression\n",
    "# 선형회귀 알고리즘\n",
    "\n",
    "from sklearn.model_selection import train_test_split\n",
    "\n",
    "print(\"Hello World\")"
   ]
  },
  {
   "cell_type": "code",
   "execution_count": 2,
   "metadata": {},
   "outputs": [
    {
     "data": {
      "text/plain": [
       "dict_keys(['data', 'target', 'feature_names', 'DESCR', 'filename'])"
      ]
     },
     "execution_count": 2,
     "metadata": {},
     "output_type": "execute_result"
    }
   ],
   "source": [
    "boston = load_boston()\n",
    "\n",
    "boston.keys()"
   ]
  },
  {
   "cell_type": "code",
   "execution_count": 3,
   "metadata": {},
   "outputs": [
    {
     "data": {
      "text/plain": [
       "array(['CRIM', 'ZN', 'INDUS', 'CHAS', 'NOX', 'RM', 'AGE', 'DIS', 'RAD',\n",
       "       'TAX', 'PTRATIO', 'B', 'LSTAT'], dtype='<U7')"
      ]
     },
     "execution_count": 3,
     "metadata": {},
     "output_type": "execute_result"
    }
   ],
   "source": [
    "boston[\"feature_names\"] # 집값에 영향을 주는 데이터 => 독립 변수들"
   ]
  },
  {
   "cell_type": "code",
   "execution_count": 4,
   "metadata": {},
   "outputs": [
    {
     "data": {
      "text/plain": [
       "array([[6.3200e-03, 1.8000e+01, 2.3100e+00, 0.0000e+00, 5.3800e-01,\n",
       "        6.5750e+00, 6.5200e+01, 4.0900e+00, 1.0000e+00, 2.9600e+02,\n",
       "        1.5300e+01, 3.9690e+02, 4.9800e+00],\n",
       "       [2.7310e-02, 0.0000e+00, 7.0700e+00, 0.0000e+00, 4.6900e-01,\n",
       "        6.4210e+00, 7.8900e+01, 4.9671e+00, 2.0000e+00, 2.4200e+02,\n",
       "        1.7800e+01, 3.9690e+02, 9.1400e+00],\n",
       "       [2.7290e-02, 0.0000e+00, 7.0700e+00, 0.0000e+00, 4.6900e-01,\n",
       "        7.1850e+00, 6.1100e+01, 4.9671e+00, 2.0000e+00, 2.4200e+02,\n",
       "        1.7800e+01, 3.9283e+02, 4.0300e+00],\n",
       "       [3.2370e-02, 0.0000e+00, 2.1800e+00, 0.0000e+00, 4.5800e-01,\n",
       "        6.9980e+00, 4.5800e+01, 6.0622e+00, 3.0000e+00, 2.2200e+02,\n",
       "        1.8700e+01, 3.9463e+02, 2.9400e+00],\n",
       "       [6.9050e-02, 0.0000e+00, 2.1800e+00, 0.0000e+00, 4.5800e-01,\n",
       "        7.1470e+00, 5.4200e+01, 6.0622e+00, 3.0000e+00, 2.2200e+02,\n",
       "        1.8700e+01, 3.9690e+02, 5.3300e+00]])"
      ]
     },
     "execution_count": 4,
     "metadata": {},
     "output_type": "execute_result"
    }
   ],
   "source": [
    "boston[\"data\"][:5] # 실질적인 데이터, 이때 컬럼은 \"feature_names\"에 나와있다"
   ]
  },
  {
   "cell_type": "code",
   "execution_count": 5,
   "metadata": {},
   "outputs": [
    {
     "data": {
      "text/plain": [
       "array([24. , 21.6, 34.7, 33.4, 36.2])"
      ]
     },
     "execution_count": 5,
     "metadata": {},
     "output_type": "execute_result"
    }
   ],
   "source": [
    "boston[\"target\"][:5]"
   ]
  },
  {
   "cell_type": "code",
   "execution_count": 6,
   "metadata": {},
   "outputs": [
    {
     "data": {
      "text/html": [
       "<div>\n",
       "<style scoped>\n",
       "    .dataframe tbody tr th:only-of-type {\n",
       "        vertical-align: middle;\n",
       "    }\n",
       "\n",
       "    .dataframe tbody tr th {\n",
       "        vertical-align: top;\n",
       "    }\n",
       "\n",
       "    .dataframe thead th {\n",
       "        text-align: right;\n",
       "    }\n",
       "</style>\n",
       "<table border=\"1\" class=\"dataframe\">\n",
       "  <thead>\n",
       "    <tr style=\"text-align: right;\">\n",
       "      <th></th>\n",
       "      <th>CRIM</th>\n",
       "      <th>ZN</th>\n",
       "      <th>INDUS</th>\n",
       "      <th>CHAS</th>\n",
       "      <th>NOX</th>\n",
       "      <th>RM</th>\n",
       "      <th>AGE</th>\n",
       "      <th>DIS</th>\n",
       "      <th>RAD</th>\n",
       "      <th>TAX</th>\n",
       "      <th>PTRATIO</th>\n",
       "      <th>B</th>\n",
       "      <th>LSTAT</th>\n",
       "      <th>PRICE</th>\n",
       "    </tr>\n",
       "  </thead>\n",
       "  <tbody>\n",
       "    <tr>\n",
       "      <th>0</th>\n",
       "      <td>0.00632</td>\n",
       "      <td>18.0</td>\n",
       "      <td>2.31</td>\n",
       "      <td>0.0</td>\n",
       "      <td>0.538</td>\n",
       "      <td>6.575</td>\n",
       "      <td>65.2</td>\n",
       "      <td>4.0900</td>\n",
       "      <td>1.0</td>\n",
       "      <td>296.0</td>\n",
       "      <td>15.3</td>\n",
       "      <td>396.90</td>\n",
       "      <td>4.98</td>\n",
       "      <td>24.0</td>\n",
       "    </tr>\n",
       "    <tr>\n",
       "      <th>1</th>\n",
       "      <td>0.02731</td>\n",
       "      <td>0.0</td>\n",
       "      <td>7.07</td>\n",
       "      <td>0.0</td>\n",
       "      <td>0.469</td>\n",
       "      <td>6.421</td>\n",
       "      <td>78.9</td>\n",
       "      <td>4.9671</td>\n",
       "      <td>2.0</td>\n",
       "      <td>242.0</td>\n",
       "      <td>17.8</td>\n",
       "      <td>396.90</td>\n",
       "      <td>9.14</td>\n",
       "      <td>21.6</td>\n",
       "    </tr>\n",
       "    <tr>\n",
       "      <th>2</th>\n",
       "      <td>0.02729</td>\n",
       "      <td>0.0</td>\n",
       "      <td>7.07</td>\n",
       "      <td>0.0</td>\n",
       "      <td>0.469</td>\n",
       "      <td>7.185</td>\n",
       "      <td>61.1</td>\n",
       "      <td>4.9671</td>\n",
       "      <td>2.0</td>\n",
       "      <td>242.0</td>\n",
       "      <td>17.8</td>\n",
       "      <td>392.83</td>\n",
       "      <td>4.03</td>\n",
       "      <td>34.7</td>\n",
       "    </tr>\n",
       "    <tr>\n",
       "      <th>3</th>\n",
       "      <td>0.03237</td>\n",
       "      <td>0.0</td>\n",
       "      <td>2.18</td>\n",
       "      <td>0.0</td>\n",
       "      <td>0.458</td>\n",
       "      <td>6.998</td>\n",
       "      <td>45.8</td>\n",
       "      <td>6.0622</td>\n",
       "      <td>3.0</td>\n",
       "      <td>222.0</td>\n",
       "      <td>18.7</td>\n",
       "      <td>394.63</td>\n",
       "      <td>2.94</td>\n",
       "      <td>33.4</td>\n",
       "    </tr>\n",
       "    <tr>\n",
       "      <th>4</th>\n",
       "      <td>0.06905</td>\n",
       "      <td>0.0</td>\n",
       "      <td>2.18</td>\n",
       "      <td>0.0</td>\n",
       "      <td>0.458</td>\n",
       "      <td>7.147</td>\n",
       "      <td>54.2</td>\n",
       "      <td>6.0622</td>\n",
       "      <td>3.0</td>\n",
       "      <td>222.0</td>\n",
       "      <td>18.7</td>\n",
       "      <td>396.90</td>\n",
       "      <td>5.33</td>\n",
       "      <td>36.2</td>\n",
       "    </tr>\n",
       "  </tbody>\n",
       "</table>\n",
       "</div>"
      ],
      "text/plain": [
       "      CRIM    ZN  INDUS  CHAS    NOX     RM   AGE     DIS  RAD    TAX  \\\n",
       "0  0.00632  18.0   2.31   0.0  0.538  6.575  65.2  4.0900  1.0  296.0   \n",
       "1  0.02731   0.0   7.07   0.0  0.469  6.421  78.9  4.9671  2.0  242.0   \n",
       "2  0.02729   0.0   7.07   0.0  0.469  7.185  61.1  4.9671  2.0  242.0   \n",
       "3  0.03237   0.0   2.18   0.0  0.458  6.998  45.8  6.0622  3.0  222.0   \n",
       "4  0.06905   0.0   2.18   0.0  0.458  7.147  54.2  6.0622  3.0  222.0   \n",
       "\n",
       "   PTRATIO       B  LSTAT  PRICE  \n",
       "0     15.3  396.90   4.98   24.0  \n",
       "1     17.8  396.90   9.14   21.6  \n",
       "2     17.8  392.83   4.03   34.7  \n",
       "3     18.7  394.63   2.94   33.4  \n",
       "4     18.7  396.90   5.33   36.2  "
      ]
     },
     "execution_count": 6,
     "metadata": {},
     "output_type": "execute_result"
    }
   ],
   "source": [
    "df_boston = pd.DataFrame(boston[\"data\"], columns=boston[\"feature_names\"])\n",
    "# 딕셔너리를 데이터 프래임으로 만들고 이때 컬럼명은 boston[\"feature_names\"]으로 한다\n",
    "\n",
    "df_boston[\"PRICE\"] = boston[\"target\"]\n",
    "\n",
    "df_boston.head()"
   ]
  },
  {
   "cell_type": "code",
   "execution_count": 7,
   "metadata": {},
   "outputs": [],
   "source": [
    "data_input = df_boston[\"RM\"] # 특성중 방의 개수를 독립변수로 지정\n",
    "\n",
    "data_input = data_input.to_numpy().reshape(-1, 1)\n",
    "# 종속 변수를 2차원 형태로 변경\n",
    "# 독립 변수는 여러가지 특성이 있을 수 있기때문에 2차운으로 사용한다.\n",
    "\n",
    "data_target = df_boston[\"PRICE\"]\n",
    "# 집값 데이터를 가져오고 종속 변수로 지정\n",
    "# 종속 변수는 결과값이 하나기 때문의 1차원으로 사용한다. 하지만 2차원도 가능"
   ]
  },
  {
   "cell_type": "code",
   "execution_count": 8,
   "metadata": {},
   "outputs": [
    {
     "name": "stdout",
     "output_type": "stream",
     "text": [
      "(404, 1) (404,)\n",
      "(102, 1) (102,)\n"
     ]
    }
   ],
   "source": [
    "input_train, input_test, target_train, target_test = train_test_split(data_input, data_target, test_size=0.2, random_state = 18) \n",
    "# test_size는 데이터를 분활하는 비율이다. 테스트 데이터의 비율을 받는다.\n",
    "# 0.2로 지정하는\n",
    "\n",
    "print(input_train.shape, target_train.shape)\n",
    "# 학습 데이터의 크기 확인\n",
    "\n",
    "print(input_test.shape, target_test.shape)\n",
    "# 평가 데이터의 크기 확인"
   ]
  },
  {
   "cell_type": "markdown",
   "metadata": {},
   "source": [
    "# 0421 수업"
   ]
  },
  {
   "cell_type": "code",
   "execution_count": 12,
   "metadata": {},
   "outputs": [
    {
     "data": {
      "text/plain": [
       "LinearRegression(copy_X=True, fit_intercept=True, n_jobs=None, normalize=False)"
      ]
     },
     "execution_count": 12,
     "metadata": {},
     "output_type": "execute_result"
    }
   ],
   "source": [
    "model_lr = LinearRegression()\n",
    "model_lr.fit(input_train, target_train)"
   ]
  },
  {
   "cell_type": "code",
   "execution_count": 14,
   "metadata": {},
   "outputs": [
    {
     "data": {
      "text/plain": [
       "array([10.96643661])"
      ]
     },
     "execution_count": 14,
     "metadata": {},
     "output_type": "execute_result"
    }
   ],
   "source": [
    "model_lr.predict([[5]])"
   ]
  },
  {
   "cell_type": "code",
   "execution_count": 21,
   "metadata": {},
   "outputs": [
    {
     "data": {
      "text/plain": [
       "Text(0, 0.5, '가격')"
      ]
     },
     "execution_count": 21,
     "metadata": {},
     "output_type": "execute_result"
    },
    {
     "data": {
      "image/png": "[encoded data removed]",
      "text/plain": [
       "<Figure size 432x288 with 1 Axes>"
      ]
     },
     "metadata": {
      "needs_background": "light"
     },
     "output_type": "display_data"
    }
   ],
   "source": [
    "x = np.arange(np.min(data_input), np.max(data_input), 0.1).reshape(-1, 1)\n",
    "\n",
    "plt.scatter(input_train, target_train)\n",
    "plt.scatter(input_test, target_test)\n",
    "plt.plot(x, model_lr.predict(x), \"r--\")\n",
    "\n",
    "plt.rc(\"font\", family=\"Malgun Gothic\")\n",
    "plt.xlabel(\"방의 개수\")\n",
    "plt.ylabel(\"가격\")"
   ]
  },
  {
   "cell_type": "code",
   "execution_count": 25,
   "metadata": {},
   "outputs": [
    {
     "name": "stdout",
     "output_type": "stream",
     "text": [
      "0.5857537588447368\n"
     ]
    }
   ],
   "source": [
    "score_test = model_lr.score(input_test, target_test)\n",
    "print(score_test)"
   ]
  },
  {
   "cell_type": "markdown",
   "metadata": {},
   "source": [
    "#### 방값이 아닌 인당 범죄율로 집값 예측"
   ]
  },
  {
   "cell_type": "code",
   "execution_count": 29,
   "metadata": {
    "collapsed": true
   },
   "outputs": [
    {
     "data": {
      "text/plain": [
       "array([[6.32000e-03],\n",
       "       [2.73100e-02],\n",
       "       [2.72900e-02],\n",
       "       [3.23700e-02],\n",
       "       [6.90500e-02],\n",
       "       [2.98500e-02],\n",
       "       [8.82900e-02],\n",
       "       [1.44550e-01],\n",
       "       [2.11240e-01],\n",
       "       [1.70040e-01],\n",
       "       [2.24890e-01],\n",
       "       [1.17470e-01],\n",
       "       [9.37800e-02],\n",
       "       [6.29760e-01],\n",
       "       [6.37960e-01],\n",
       "       [6.27390e-01],\n",
       "       [1.05393e+00],\n",
       "       [7.84200e-01],\n",
       "       [8.02710e-01],\n",
       "       [7.25800e-01],\n",
       "       [1.25179e+00],\n",
       "       [8.52040e-01],\n",
       "       [1.23247e+00],\n",
       "       [9.88430e-01],\n",
       "       [7.50260e-01],\n",
       "       [8.40540e-01],\n",
       "       [6.71910e-01],\n",
       "       [9.55770e-01],\n",
       "       [7.72990e-01],\n",
       "       [1.00245e+00],\n",
       "       [1.13081e+00],\n",
       "       [1.35472e+00],\n",
       "       [1.38799e+00],\n",
       "       [1.15172e+00],\n",
       "       [1.61282e+00],\n",
       "       [6.41700e-02],\n",
       "       [9.74400e-02],\n",
       "       [8.01400e-02],\n",
       "       [1.75050e-01],\n",
       "       [2.76300e-02],\n",
       "       [3.35900e-02],\n",
       "       [1.27440e-01],\n",
       "       [1.41500e-01],\n",
       "       [1.59360e-01],\n",
       "       [1.22690e-01],\n",
       "       [1.71420e-01],\n",
       "       [1.88360e-01],\n",
       "       [2.29270e-01],\n",
       "       [2.53870e-01],\n",
       "       [2.19770e-01],\n",
       "       [8.87300e-02],\n",
       "       [4.33700e-02],\n",
       "       [5.36000e-02],\n",
       "       [4.98100e-02],\n",
       "       [1.36000e-02],\n",
       "       [1.31100e-02],\n",
       "       [2.05500e-02],\n",
       "       [1.43200e-02],\n",
       "       [1.54450e-01],\n",
       "       [1.03280e-01],\n",
       "       [1.49320e-01],\n",
       "       [1.71710e-01],\n",
       "       [1.10270e-01],\n",
       "       [1.26500e-01],\n",
       "       [1.95100e-02],\n",
       "       [3.58400e-02],\n",
       "       [4.37900e-02],\n",
       "       [5.78900e-02],\n",
       "       [1.35540e-01],\n",
       "       [1.28160e-01],\n",
       "       [8.82600e-02],\n",
       "       [1.58760e-01],\n",
       "       [9.16400e-02],\n",
       "       [1.95390e-01],\n",
       "       [7.89600e-02],\n",
       "       [9.51200e-02],\n",
       "       [1.01530e-01],\n",
       "       [8.70700e-02],\n",
       "       [5.64600e-02],\n",
       "       [8.38700e-02],\n",
       "       [4.11300e-02],\n",
       "       [4.46200e-02],\n",
       "       [3.65900e-02],\n",
       "       [3.55100e-02],\n",
       "       [5.05900e-02],\n",
       "       [5.73500e-02],\n",
       "       [5.18800e-02],\n",
       "       [7.15100e-02],\n",
       "       [5.66000e-02],\n",
       "       [5.30200e-02],\n",
       "       [4.68400e-02],\n",
       "       [3.93200e-02],\n",
       "       [4.20300e-02],\n",
       "       [2.87500e-02],\n",
       "       [4.29400e-02],\n",
       "       [1.22040e-01],\n",
       "       [1.15040e-01],\n",
       "       [1.20830e-01],\n",
       "       [8.18700e-02],\n",
       "       [6.86000e-02],\n",
       "       [1.48660e-01],\n",
       "       [1.14320e-01],\n",
       "       [2.28760e-01],\n",
       "       [2.11610e-01],\n",
       "       [1.39600e-01],\n",
       "       [1.32620e-01],\n",
       "       [1.71200e-01],\n",
       "       [1.31170e-01],\n",
       "       [1.28020e-01],\n",
       "       [2.63630e-01],\n",
       "       [1.07930e-01],\n",
       "       [1.00840e-01],\n",
       "       [1.23290e-01],\n",
       "       [2.22120e-01],\n",
       "       [1.42310e-01],\n",
       "       [1.71340e-01],\n",
       "       [1.31580e-01],\n",
       "       [1.50980e-01],\n",
       "       [1.30580e-01],\n",
       "       [1.44760e-01],\n",
       "       [6.89900e-02],\n",
       "       [7.16500e-02],\n",
       "       [9.29900e-02],\n",
       "       [1.50380e-01],\n",
       "       [9.84900e-02],\n",
       "       [1.69020e-01],\n",
       "       [3.87350e-01],\n",
       "       [2.59150e-01],\n",
       "       [3.25430e-01],\n",
       "       [8.81250e-01],\n",
       "       [3.40060e-01],\n",
       "       [1.19294e+00],\n",
       "       [5.90050e-01],\n",
       "       [3.29820e-01],\n",
       "       [9.76170e-01],\n",
       "       [5.57780e-01],\n",
       "       [3.22640e-01],\n",
       "       [3.52330e-01],\n",
       "       [2.49800e-01],\n",
       "       [5.44520e-01],\n",
       "       [2.90900e-01],\n",
       "       [1.62864e+00],\n",
       "       [3.32105e+00],\n",
       "       [4.09740e+00],\n",
       "       [2.77974e+00],\n",
       "       [2.37934e+00],\n",
       "       [2.15505e+00],\n",
       "       [2.36862e+00],\n",
       "       [2.33099e+00],\n",
       "       [2.73397e+00],\n",
       "       [1.65660e+00],\n",
       "       [1.49632e+00],\n",
       "       [1.12658e+00],\n",
       "       [2.14918e+00],\n",
       "       [1.41385e+00],\n",
       "       [3.53501e+00],\n",
       "       [2.44668e+00],\n",
       "       [1.22358e+00],\n",
       "       [1.34284e+00],\n",
       "       [1.42502e+00],\n",
       "       [1.27346e+00],\n",
       "       [1.46336e+00],\n",
       "       [1.83377e+00],\n",
       "       [1.51902e+00],\n",
       "       [2.24236e+00],\n",
       "       [2.92400e+00],\n",
       "       [2.01019e+00],\n",
       "       [1.80028e+00],\n",
       "       [2.30040e+00],\n",
       "       [2.44953e+00],\n",
       "       [1.20742e+00],\n",
       "       [2.31390e+00],\n",
       "       [1.39140e-01],\n",
       "       [9.17800e-02],\n",
       "       [8.44700e-02],\n",
       "       [6.66400e-02],\n",
       "       [7.02200e-02],\n",
       "       [5.42500e-02],\n",
       "       [6.64200e-02],\n",
       "       [5.78000e-02],\n",
       "       [6.58800e-02],\n",
       "       [6.88800e-02],\n",
       "       [9.10300e-02],\n",
       "       [1.00080e-01],\n",
       "       [8.30800e-02],\n",
       "       [6.04700e-02],\n",
       "       [5.60200e-02],\n",
       "       [7.87500e-02],\n",
       "       [1.25790e-01],\n",
       "       [8.37000e-02],\n",
       "       [9.06800e-02],\n",
       "       [6.91100e-02],\n",
       "       [8.66400e-02],\n",
       "       [2.18700e-02],\n",
       "       [1.43900e-02],\n",
       "       [1.38100e-02],\n",
       "       [4.01100e-02],\n",
       "       [4.66600e-02],\n",
       "       [3.76800e-02],\n",
       "       [3.15000e-02],\n",
       "       [1.77800e-02],\n",
       "       [3.44500e-02],\n",
       "       [2.17700e-02],\n",
       "       [3.51000e-02],\n",
       "       [2.00900e-02],\n",
       "       [1.36420e-01],\n",
       "       [2.29690e-01],\n",
       "       [2.51990e-01],\n",
       "       [1.35870e-01],\n",
       "       [4.35710e-01],\n",
       "       [1.74460e-01],\n",
       "       [3.75780e-01],\n",
       "       [2.17190e-01],\n",
       "       [1.40520e-01],\n",
       "       [2.89550e-01],\n",
       "       [1.98020e-01],\n",
       "       [4.56000e-02],\n",
       "       [7.01300e-02],\n",
       "       [1.10690e-01],\n",
       "       [1.14250e-01],\n",
       "       [3.58090e-01],\n",
       "       [4.07710e-01],\n",
       "       [6.23560e-01],\n",
       "       [6.14700e-01],\n",
       "       [3.15330e-01],\n",
       "       [5.26930e-01],\n",
       "       [3.82140e-01],\n",
       "       [4.12380e-01],\n",
       "       [2.98190e-01],\n",
       "       [4.41780e-01],\n",
       "       [5.37000e-01],\n",
       "       [4.62960e-01],\n",
       "       [5.75290e-01],\n",
       "       [3.31470e-01],\n",
       "       [4.47910e-01],\n",
       "       [3.30450e-01],\n",
       "       [5.20580e-01],\n",
       "       [5.11830e-01],\n",
       "       [8.24400e-02],\n",
       "       [9.25200e-02],\n",
       "       [1.13290e-01],\n",
       "       [1.06120e-01],\n",
       "       [1.02900e-01],\n",
       "       [1.27570e-01],\n",
       "       [2.06080e-01],\n",
       "       [1.91330e-01],\n",
       "       [3.39830e-01],\n",
       "       [1.96570e-01],\n",
       "       [1.64390e-01],\n",
       "       [1.90730e-01],\n",
       "       [1.40300e-01],\n",
       "       [2.14090e-01],\n",
       "       [8.22100e-02],\n",
       "       [3.68940e-01],\n",
       "       [4.81900e-02],\n",
       "       [3.54800e-02],\n",
       "       [1.53800e-02],\n",
       "       [6.11540e-01],\n",
       "       [6.63510e-01],\n",
       "       [6.56650e-01],\n",
       "       [5.40110e-01],\n",
       "       [5.34120e-01],\n",
       "       [5.20140e-01],\n",
       "       [8.25260e-01],\n",
       "       [5.50070e-01],\n",
       "       [7.61620e-01],\n",
       "       [7.85700e-01],\n",
       "       [5.78340e-01],\n",
       "       [5.40500e-01],\n",
       "       [9.06500e-02],\n",
       "       [2.99160e-01],\n",
       "       [1.62110e-01],\n",
       "       [1.14600e-01],\n",
       "       [2.21880e-01],\n",
       "       [5.64400e-02],\n",
       "       [9.60400e-02],\n",
       "       [1.04690e-01],\n",
       "       [6.12700e-02],\n",
       "       [7.97800e-02],\n",
       "       [2.10380e-01],\n",
       "       [3.57800e-02],\n",
       "       [3.70500e-02],\n",
       "       [6.12900e-02],\n",
       "       [1.50100e-02],\n",
       "       [9.06000e-03],\n",
       "       [1.09600e-02],\n",
       "       [1.96500e-02],\n",
       "       [3.87100e-02],\n",
       "       [4.59000e-02],\n",
       "       [4.29700e-02],\n",
       "       [3.50200e-02],\n",
       "       [7.88600e-02],\n",
       "       [3.61500e-02],\n",
       "       [8.26500e-02],\n",
       "       [8.19900e-02],\n",
       "       [1.29320e-01],\n",
       "       [5.37200e-02],\n",
       "       [1.41030e-01],\n",
       "       [6.46600e-02],\n",
       "       [5.56100e-02],\n",
       "       [4.41700e-02],\n",
       "       [3.53700e-02],\n",
       "       [9.26600e-02],\n",
       "       [1.00000e-01],\n",
       "       [5.51500e-02],\n",
       "       [5.47900e-02],\n",
       "       [7.50300e-02],\n",
       "       [4.93200e-02],\n",
       "       [4.92980e-01],\n",
       "       [3.49400e-01],\n",
       "       [2.63548e+00],\n",
       "       [7.90410e-01],\n",
       "       [2.61690e-01],\n",
       "       [2.69380e-01],\n",
       "       [3.69200e-01],\n",
       "       [2.53560e-01],\n",
       "       [3.18270e-01],\n",
       "       [2.45220e-01],\n",
       "       [4.02020e-01],\n",
       "       [4.75470e-01],\n",
       "       [1.67600e-01],\n",
       "       [1.81590e-01],\n",
       "       [3.51140e-01],\n",
       "       [2.83920e-01],\n",
       "       [3.41090e-01],\n",
       "       [1.91860e-01],\n",
       "       [3.03470e-01],\n",
       "       [2.41030e-01],\n",
       "       [6.61700e-02],\n",
       "       [6.72400e-02],\n",
       "       [4.54400e-02],\n",
       "       [5.02300e-02],\n",
       "       [3.46600e-02],\n",
       "       [5.08300e-02],\n",
       "       [3.73800e-02],\n",
       "       [3.96100e-02],\n",
       "       [3.42700e-02],\n",
       "       [3.04100e-02],\n",
       "       [3.30600e-02],\n",
       "       [5.49700e-02],\n",
       "       [6.15100e-02],\n",
       "       [1.30100e-02],\n",
       "       [2.49800e-02],\n",
       "       [2.54300e-02],\n",
       "       [3.04900e-02],\n",
       "       [3.11300e-02],\n",
       "       [6.16200e-02],\n",
       "       [1.87000e-02],\n",
       "       [1.50100e-02],\n",
       "       [2.89900e-02],\n",
       "       [6.21100e-02],\n",
       "       [7.95000e-02],\n",
       "       [7.24400e-02],\n",
       "       [1.70900e-02],\n",
       "       [4.30100e-02],\n",
       "       [1.06590e-01],\n",
       "       [8.98296e+00],\n",
       "       [3.84970e+00],\n",
       "       [5.20177e+00],\n",
       "       [4.26131e+00],\n",
       "       [4.54192e+00],\n",
       "       [3.83684e+00],\n",
       "       [3.67822e+00],\n",
       "       [4.22239e+00],\n",
       "       [3.47428e+00],\n",
       "       [4.55587e+00],\n",
       "       [3.69695e+00],\n",
       "       [1.35222e+01],\n",
       "       [4.89822e+00],\n",
       "       [5.66998e+00],\n",
       "       [6.53876e+00],\n",
       "       [9.23230e+00],\n",
       "       [8.26725e+00],\n",
       "       [1.11081e+01],\n",
       "       [1.84982e+01],\n",
       "       [1.96091e+01],\n",
       "       [1.52880e+01],\n",
       "       [9.82349e+00],\n",
       "       [2.36482e+01],\n",
       "       [1.78667e+01],\n",
       "       [8.89762e+01],\n",
       "       [1.58744e+01],\n",
       "       [9.18702e+00],\n",
       "       [7.99248e+00],\n",
       "       [2.00849e+01],\n",
       "       [1.68118e+01],\n",
       "       [2.43938e+01],\n",
       "       [2.25971e+01],\n",
       "       [1.43337e+01],\n",
       "       [8.15174e+00],\n",
       "       [6.96215e+00],\n",
       "       [5.29305e+00],\n",
       "       [1.15779e+01],\n",
       "       [8.64476e+00],\n",
       "       [1.33598e+01],\n",
       "       [8.71675e+00],\n",
       "       [5.87205e+00],\n",
       "       [7.67202e+00],\n",
       "       [3.83518e+01],\n",
       "       [9.91655e+00],\n",
       "       [2.50461e+01],\n",
       "       [1.42362e+01],\n",
       "       [9.59571e+00],\n",
       "       [2.48017e+01],\n",
       "       [4.15292e+01],\n",
       "       [6.79208e+01],\n",
       "       [2.07162e+01],\n",
       "       [1.19511e+01],\n",
       "       [7.40389e+00],\n",
       "       [1.44383e+01],\n",
       "       [5.11358e+01],\n",
       "       [1.40507e+01],\n",
       "       [1.88110e+01],\n",
       "       [2.86558e+01],\n",
       "       [4.57461e+01],\n",
       "       [1.80846e+01],\n",
       "       [1.08342e+01],\n",
       "       [2.59406e+01],\n",
       "       [7.35341e+01],\n",
       "       [1.18123e+01],\n",
       "       [1.10874e+01],\n",
       "       [7.02259e+00],\n",
       "       [1.20482e+01],\n",
       "       [7.05042e+00],\n",
       "       [8.79212e+00],\n",
       "       [1.58603e+01],\n",
       "       [1.22472e+01],\n",
       "       [3.76619e+01],\n",
       "       [7.36711e+00],\n",
       "       [9.33889e+00],\n",
       "       [8.49213e+00],\n",
       "       [1.00623e+01],\n",
       "       [6.44405e+00],\n",
       "       [5.58107e+00],\n",
       "       [1.39134e+01],\n",
       "       [1.11604e+01],\n",
       "       [1.44208e+01],\n",
       "       [1.51772e+01],\n",
       "       [1.36781e+01],\n",
       "       [9.39063e+00],\n",
       "       [2.20511e+01],\n",
       "       [9.72418e+00],\n",
       "       [5.66637e+00],\n",
       "       [9.96654e+00],\n",
       "       [1.28023e+01],\n",
       "       [1.06718e+01],\n",
       "       [6.28807e+00],\n",
       "       [9.92485e+00],\n",
       "       [9.32909e+00],\n",
       "       [7.52601e+00],\n",
       "       [6.71772e+00],\n",
       "       [5.44114e+00],\n",
       "       [5.09017e+00],\n",
       "       [8.24809e+00],\n",
       "       [9.51363e+00],\n",
       "       [4.75237e+00],\n",
       "       [4.66883e+00],\n",
       "       [8.20058e+00],\n",
       "       [7.75223e+00],\n",
       "       [6.80117e+00],\n",
       "       [4.81213e+00],\n",
       "       [3.69311e+00],\n",
       "       [6.65492e+00],\n",
       "       [5.82115e+00],\n",
       "       [7.83932e+00],\n",
       "       [3.16360e+00],\n",
       "       [3.77498e+00],\n",
       "       [4.42228e+00],\n",
       "       [1.55757e+01],\n",
       "       [1.30751e+01],\n",
       "       [4.34879e+00],\n",
       "       [4.03841e+00],\n",
       "       [3.56868e+00],\n",
       "       [4.64689e+00],\n",
       "       [8.05579e+00],\n",
       "       [6.39312e+00],\n",
       "       [4.87141e+00],\n",
       "       [1.50234e+01],\n",
       "       [1.02330e+01],\n",
       "       [1.43337e+01],\n",
       "       [5.82401e+00],\n",
       "       [5.70818e+00],\n",
       "       [5.73116e+00],\n",
       "       [2.81838e+00],\n",
       "       [2.37857e+00],\n",
       "       [3.67367e+00],\n",
       "       [5.69175e+00],\n",
       "       [4.83567e+00],\n",
       "       [1.50860e-01],\n",
       "       [1.83370e-01],\n",
       "       [2.07460e-01],\n",
       "       [1.05740e-01],\n",
       "       [1.11320e-01],\n",
       "       [1.73310e-01],\n",
       "       [2.79570e-01],\n",
       "       [1.78990e-01],\n",
       "       [2.89600e-01],\n",
       "       [2.68380e-01],\n",
       "       [2.39120e-01],\n",
       "       [1.77830e-01],\n",
       "       [2.24380e-01],\n",
       "       [6.26300e-02],\n",
       "       [4.52700e-02],\n",
       "       [6.07600e-02],\n",
       "       [1.09590e-01],\n",
       "       [4.74100e-02]])"
      ]
     },
     "execution_count": 29,
     "metadata": {},
     "output_type": "execute_result"
    }
   ],
   "source": [
    "data_input_crim = df_boston[\"CRIM\"].to_numpy().reshape(-1, 1)\n",
    "data_input_crim"
   ]
  },
  {
   "cell_type": "code",
   "execution_count": 36,
   "metadata": {},
   "outputs": [
    {
     "data": {
      "text/plain": [
       "LinearRegression(copy_X=True, fit_intercept=True, n_jobs=None, normalize=False)"
      ]
     },
     "execution_count": 36,
     "metadata": {},
     "output_type": "execute_result"
    }
   ],
   "source": [
    "input_train_crim, input_test_crim, target_train_crim, target_test_crim = train_test_split(data_input_crim, data_target, test_size=0.3, random_state = 18)\n",
    "\n",
    "model_lr_crim = LinearRegression()\n",
    "model_lr_crim.fit(input_train_crim, target_train_crim)"
   ]
  },
  {
   "cell_type": "code",
   "execution_count": 60,
   "metadata": {},
   "outputs": [
    {
     "data": {
      "text/plain": [
       "Text(0, 0.5, '가격')"
      ]
     },
     "execution_count": 60,
     "metadata": {},
     "output_type": "execute_result"
    },
    {
     "data": {
      "image/png": "[encoded data removed]",
      "text/plain": [
       "<Figure size 432x288 with 1 Axes>"
      ]
     },
     "metadata": {
      "needs_background": "light"
     },
     "output_type": "display_data"
    }
   ],
   "source": [
    "x = np.arange(np.min(input_test_crim), np.max(input_test_crim), 0.1).reshape(-1, 1)\n",
    "\n",
    "plt.scatter(input_test_crim, target_test_crim)\n",
    "plt.plot(x, model_lr_crim.predict(x), \"r--\")\n",
    "\n",
    "plt.rc(\"font\", family=\"Malgun Gothic\")\n",
    "plt.xlabel(\"인당 범죄율\")\n",
    "plt.ylabel(\"가격\")"
   ]
  },
  {
   "cell_type": "code",
   "execution_count": 54,
   "metadata": {},
   "outputs": [
    {
     "name": "stdout",
     "output_type": "stream",
     "text": [
      "훈련 데이터의 개수 : (354, 1) (354,)\n",
      "테스트 데이터의 개수 : (152, 1) (354,)\n",
      "방의 개수(RM)으로 예측한 집 값의 성능 점수 : 0.5857537588447368\n",
      "인당 범죄율(CRIM)으로 예측한 집 값의 성능 점수 : 0.14158747028921292\n",
      "따라서 보스터 집값에 더 큰 영향을 주는 특성은 \"방의 개수(RM)\"이다.\n"
     ]
    }
   ],
   "source": [
    "print(f\"훈련 데이터의 개수 : {input_train_crim.shape} {target_train_crim.shape}\")\n",
    "print(f\"테스트 데이터의 개수 : {input_test_crim.shape} {target_train_crim.shape}\")\n",
    "\n",
    "print(f\"방의 개수(RM)으로 예측한 집 값의 성능 점수 : {score_test}\")\n",
    "print(f\"인당 범죄율(CRIM)으로 예측한 집 값의 성능 점수 : {model_lr_crim.score(input_test_crim, target_test_crim)}\")\n",
    "\n",
    "print(\"따라서 보스터 집값에 더 큰 영향을 주는 특성은 \\\"방의 개수(RM)\\\"이다.\")"
   ]
  },
  {
   "cell_type": "code",
   "execution_count": null,
   "metadata": {},
   "outputs": [],
   "source": []
  },
  {
   "cell_type": "code",
   "execution_count": null,
   "metadata": {},
   "outputs": [],
   "source": []
  }
 ],
 "metadata": {
  "kernelspec": {
   "display_name": "Python 3",
   "language": "python",
   "name": "python3"
  },
  "language_info": {
   "codemirror_mode": {
    "name": "ipython",
    "version": 3
   },
   "file_extension": ".py",
   "mimetype": "text/x-python",
   "name": "python",
   "nbconvert_exporter": "python",
   "pygments_lexer": "ipython3",
   "version": "3.7.6"
  }
 },
 "nbformat": 4,
 "nbformat_minor": 4
}
