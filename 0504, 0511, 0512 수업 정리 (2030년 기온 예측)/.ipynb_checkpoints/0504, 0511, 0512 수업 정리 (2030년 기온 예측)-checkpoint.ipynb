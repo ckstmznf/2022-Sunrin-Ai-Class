{
 "cells": [
  {
   "cell_type": "markdown",
   "metadata": {},
   "source": [
    "# 수업 요약\n",
    "- 2030년의 기온 예측하기"
   ]
  },
  {
   "cell_type": "code",
   "execution_count": 1,
   "metadata": {},
   "outputs": [
    {
     "name": "stdout",
     "output_type": "stream",
     "text": [
      "Hello World\n"
     ]
    }
   ],
   "source": [
    "import pandas as pd\n",
    "import matplotlib.pyplot as plt\n",
    "import numpy as np\n",
    "\n",
    "print(\"Hello World\")"
   ]
  },
  {
   "cell_type": "code",
   "execution_count": 2,
   "metadata": {},
   "outputs": [
    {
     "data": {
      "text/html": [
       "<div>\n",
       "<style scoped>\n",
       "    .dataframe tbody tr th:only-of-type {\n",
       "        vertical-align: middle;\n",
       "    }\n",
       "\n",
       "    .dataframe tbody tr th {\n",
       "        vertical-align: top;\n",
       "    }\n",
       "\n",
       "    .dataframe thead th {\n",
       "        text-align: right;\n",
       "    }\n",
       "</style>\n",
       "<table border=\"1\" class=\"dataframe\">\n",
       "  <thead>\n",
       "    <tr style=\"text-align: right;\">\n",
       "      <th></th>\n",
       "      <th>년도</th>\n",
       "      <th>지점</th>\n",
       "      <th>평균기온</th>\n",
       "      <th>최저기온</th>\n",
       "      <th>최고기온</th>\n",
       "    </tr>\n",
       "  </thead>\n",
       "  <tbody>\n",
       "    <tr>\n",
       "      <th>0</th>\n",
       "      <td>1907</td>\n",
       "      <td>108</td>\n",
       "      <td>NaN</td>\n",
       "      <td>-20.1</td>\n",
       "      <td>25.4</td>\n",
       "    </tr>\n",
       "    <tr>\n",
       "      <th>1</th>\n",
       "      <td>1908</td>\n",
       "      <td>108</td>\n",
       "      <td>10.4</td>\n",
       "      <td>-15.8</td>\n",
       "      <td>33.6</td>\n",
       "    </tr>\n",
       "    <tr>\n",
       "      <th>2</th>\n",
       "      <td>1909</td>\n",
       "      <td>108</td>\n",
       "      <td>10.6</td>\n",
       "      <td>-14.6</td>\n",
       "      <td>35.6</td>\n",
       "    </tr>\n",
       "    <tr>\n",
       "      <th>3</th>\n",
       "      <td>1910</td>\n",
       "      <td>108</td>\n",
       "      <td>10.3</td>\n",
       "      <td>-19.9</td>\n",
       "      <td>33.3</td>\n",
       "    </tr>\n",
       "    <tr>\n",
       "      <th>4</th>\n",
       "      <td>1911</td>\n",
       "      <td>108</td>\n",
       "      <td>10.6</td>\n",
       "      <td>-21.5</td>\n",
       "      <td>34.5</td>\n",
       "    </tr>\n",
       "    <tr>\n",
       "      <th>...</th>\n",
       "      <td>...</td>\n",
       "      <td>...</td>\n",
       "      <td>...</td>\n",
       "      <td>...</td>\n",
       "      <td>...</td>\n",
       "    </tr>\n",
       "    <tr>\n",
       "      <th>110</th>\n",
       "      <td>2017</td>\n",
       "      <td>108</td>\n",
       "      <td>13.0</td>\n",
       "      <td>-12.6</td>\n",
       "      <td>35.4</td>\n",
       "    </tr>\n",
       "    <tr>\n",
       "      <th>111</th>\n",
       "      <td>2018</td>\n",
       "      <td>108</td>\n",
       "      <td>12.9</td>\n",
       "      <td>-17.8</td>\n",
       "      <td>39.6</td>\n",
       "    </tr>\n",
       "    <tr>\n",
       "      <th>112</th>\n",
       "      <td>2019</td>\n",
       "      <td>108</td>\n",
       "      <td>13.5</td>\n",
       "      <td>-10.9</td>\n",
       "      <td>36.8</td>\n",
       "    </tr>\n",
       "    <tr>\n",
       "      <th>113</th>\n",
       "      <td>2020</td>\n",
       "      <td>108</td>\n",
       "      <td>13.2</td>\n",
       "      <td>-12.9</td>\n",
       "      <td>35.4</td>\n",
       "    </tr>\n",
       "    <tr>\n",
       "      <th>114</th>\n",
       "      <td>2021</td>\n",
       "      <td>108</td>\n",
       "      <td>13.7</td>\n",
       "      <td>-18.6</td>\n",
       "      <td>36.5</td>\n",
       "    </tr>\n",
       "  </tbody>\n",
       "</table>\n",
       "<p>115 rows × 5 columns</p>\n",
       "</div>"
      ],
      "text/plain": [
       "       년도   지점  평균기온  최저기온  최고기온\n",
       "0    1907  108   NaN -20.1  25.4\n",
       "1    1908  108  10.4 -15.8  33.6\n",
       "2    1909  108  10.6 -14.6  35.6\n",
       "3    1910  108  10.3 -19.9  33.3\n",
       "4    1911  108  10.6 -21.5  34.5\n",
       "..    ...  ...   ...   ...   ...\n",
       "110  2017  108  13.0 -12.6  35.4\n",
       "111  2018  108  12.9 -17.8  39.6\n",
       "112  2019  108  13.5 -10.9  36.8\n",
       "113  2020  108  13.2 -12.9  35.4\n",
       "114  2021  108  13.7 -18.6  36.5\n",
       "\n",
       "[115 rows x 5 columns]"
      ]
     },
     "execution_count": 2,
     "metadata": {},
     "output_type": "execute_result"
    }
   ],
   "source": [
    "seoul_temp = pd.read_csv(\"./seoul_temp_1904_2021.csv\", encoding=\"cp949\")\n",
    "\n",
    "seoul_temp"
   ]
  },
  {
   "cell_type": "code",
   "execution_count": 3,
   "metadata": {},
   "outputs": [
    {
     "data": {
      "image/png": "[encoded data removed]",
      "text/plain": [
       "<Figure size 432x288 with 1 Axes>"
      ]
     },
     "metadata": {
      "needs_background": "light"
     },
     "output_type": "display_data"
    }
   ],
   "source": [
    "plt.plot(seoul_temp[\"평균기온\"])\n",
    "plt.plot(seoul_temp[\"최저기온\"])\n",
    "plt.plot(seoul_temp[\"최고기온\"])\n",
    "\n",
    "plt.show()"
   ]
  },
  {
   "cell_type": "markdown",
   "metadata": {},
   "source": [
    "# 0511 수업 요약\n",
    "- nan값 처리\n",
    "- 학습 데이터와 테스트 데이터 분류\n",
    "- 데이터 학습"
   ]
  },
  {
   "cell_type": "code",
   "execution_count": 13,
   "metadata": {},
   "outputs": [
    {
     "data": {
      "text/html": [
       "<div>\n",
       "<style scoped>\n",
       "    .dataframe tbody tr th:only-of-type {\n",
       "        vertical-align: middle;\n",
       "    }\n",
       "\n",
       "    .dataframe tbody tr th {\n",
       "        vertical-align: top;\n",
       "    }\n",
       "\n",
       "    .dataframe thead th {\n",
       "        text-align: right;\n",
       "    }\n",
       "</style>\n",
       "<table border=\"1\" class=\"dataframe\">\n",
       "  <thead>\n",
       "    <tr style=\"text-align: right;\">\n",
       "      <th></th>\n",
       "      <th>년도</th>\n",
       "      <th>지점</th>\n",
       "      <th>평균기온</th>\n",
       "      <th>최저기온</th>\n",
       "      <th>최고기온</th>\n",
       "    </tr>\n",
       "  </thead>\n",
       "  <tbody>\n",
       "    <tr>\n",
       "      <th>count</th>\n",
       "      <td>115.000000</td>\n",
       "      <td>115.0</td>\n",
       "      <td>110.000000</td>\n",
       "      <td>113.000000</td>\n",
       "      <td>113.000000</td>\n",
       "    </tr>\n",
       "    <tr>\n",
       "      <th>mean</th>\n",
       "      <td>1964.000000</td>\n",
       "      <td>108.0</td>\n",
       "      <td>11.723636</td>\n",
       "      <td>-16.448673</td>\n",
       "      <td>34.819469</td>\n",
       "    </tr>\n",
       "    <tr>\n",
       "      <th>std</th>\n",
       "      <td>33.341666</td>\n",
       "      <td>0.0</td>\n",
       "      <td>1.000819</td>\n",
       "      <td>3.111933</td>\n",
       "      <td>2.496600</td>\n",
       "    </tr>\n",
       "    <tr>\n",
       "      <th>min</th>\n",
       "      <td>1907.000000</td>\n",
       "      <td>108.0</td>\n",
       "      <td>9.600000</td>\n",
       "      <td>-23.100000</td>\n",
       "      <td>16.200000</td>\n",
       "    </tr>\n",
       "    <tr>\n",
       "      <th>25%</th>\n",
       "      <td>1935.500000</td>\n",
       "      <td>108.0</td>\n",
       "      <td>10.900000</td>\n",
       "      <td>-18.600000</td>\n",
       "      <td>34.000000</td>\n",
       "    </tr>\n",
       "    <tr>\n",
       "      <th>50%</th>\n",
       "      <td>1964.000000</td>\n",
       "      <td>108.0</td>\n",
       "      <td>11.650000</td>\n",
       "      <td>-16.800000</td>\n",
       "      <td>35.100000</td>\n",
       "    </tr>\n",
       "    <tr>\n",
       "      <th>75%</th>\n",
       "      <td>1992.500000</td>\n",
       "      <td>108.0</td>\n",
       "      <td>12.475000</td>\n",
       "      <td>-14.100000</td>\n",
       "      <td>36.000000</td>\n",
       "    </tr>\n",
       "    <tr>\n",
       "      <th>max</th>\n",
       "      <td>2021.000000</td>\n",
       "      <td>108.0</td>\n",
       "      <td>13.800000</td>\n",
       "      <td>-8.600000</td>\n",
       "      <td>39.600000</td>\n",
       "    </tr>\n",
       "  </tbody>\n",
       "</table>\n",
       "</div>"
      ],
      "text/plain": [
       "                년도     지점        평균기온        최저기온        최고기온\n",
       "count   115.000000  115.0  110.000000  113.000000  113.000000\n",
       "mean   1964.000000  108.0   11.723636  -16.448673   34.819469\n",
       "std      33.341666    0.0    1.000819    3.111933    2.496600\n",
       "min    1907.000000  108.0    9.600000  -23.100000   16.200000\n",
       "25%    1935.500000  108.0   10.900000  -18.600000   34.000000\n",
       "50%    1964.000000  108.0   11.650000  -16.800000   35.100000\n",
       "75%    1992.500000  108.0   12.475000  -14.100000   36.000000\n",
       "max    2021.000000  108.0   13.800000   -8.600000   39.600000"
      ]
     },
     "execution_count": 13,
     "metadata": {},
     "output_type": "execute_result"
    }
   ],
   "source": [
    "seoul_temp.describe()\n",
    "# describe() 함수는 각 칼럼의 통계치를 보여준다.\n",
    "\n",
    "# 이때 count를 보면 편균기온과 최저기온, 최고 기온의 개수가 다르다.\n",
    "# 즉 결측 데이터가 포함 되어있다."
   ]
  },
  {
   "cell_type": "code",
   "execution_count": 14,
   "metadata": {},
   "outputs": [
    {
     "name": "stdout",
     "output_type": "stream",
     "text": [
      "<class 'pandas.core.frame.DataFrame'>\n",
      "RangeIndex: 115 entries, 0 to 114\n",
      "Data columns (total 5 columns):\n",
      " #   Column  Non-Null Count  Dtype  \n",
      "---  ------  --------------  -----  \n",
      " 0   년도      115 non-null    int64  \n",
      " 1   지점      115 non-null    int64  \n",
      " 2   평균기온    110 non-null    float64\n",
      " 3   최저기온    113 non-null    float64\n",
      " 4   최고기온    113 non-null    float64\n",
      "dtypes: float64(3), int64(2)\n",
      "memory usage: 4.6 KB\n"
     ]
    }
   ],
   "source": [
    "seoul_temp.info()\n",
    "# info() 함수는 각 칼럼이 어떤 자료형으로 저장되었는지 보여준다.\n",
    "\n",
    "# 이때도 결측치를 확인 할수있다."
   ]
  },
  {
   "cell_type": "code",
   "execution_count": 15,
   "metadata": {},
   "outputs": [
    {
     "data": {
      "text/plain": [
       "년도      0\n",
       "지점      0\n",
       "평균기온    5\n",
       "최저기온    2\n",
       "최고기온    2\n",
       "dtype: int64"
      ]
     },
     "execution_count": 15,
     "metadata": {},
     "output_type": "execute_result"
    }
   ],
   "source": [
    "seoul_temp.isnull().sum()\n",
    "# isNull() 함수는 각 셀이 null값인지 boolean으로 나온다.\n",
    "# 이때 sum() 함수를 실행하면 각 열의 값을 모두 더해준다."
   ]
  },
  {
   "cell_type": "code",
   "execution_count": 16,
   "metadata": {},
   "outputs": [
    {
     "data": {
      "text/html": [
       "<div>\n",
       "<style scoped>\n",
       "    .dataframe tbody tr th:only-of-type {\n",
       "        vertical-align: middle;\n",
       "    }\n",
       "\n",
       "    .dataframe tbody tr th {\n",
       "        vertical-align: top;\n",
       "    }\n",
       "\n",
       "    .dataframe thead th {\n",
       "        text-align: right;\n",
       "    }\n",
       "</style>\n",
       "<table border=\"1\" class=\"dataframe\">\n",
       "  <thead>\n",
       "    <tr style=\"text-align: right;\">\n",
       "      <th></th>\n",
       "      <th>년도</th>\n",
       "      <th>지점</th>\n",
       "      <th>평균기온</th>\n",
       "      <th>최저기온</th>\n",
       "      <th>최고기온</th>\n",
       "    </tr>\n",
       "  </thead>\n",
       "  <tbody>\n",
       "    <tr>\n",
       "      <th>0</th>\n",
       "      <td>1907</td>\n",
       "      <td>108</td>\n",
       "      <td>NaN</td>\n",
       "      <td>-20.1</td>\n",
       "      <td>25.4</td>\n",
       "    </tr>\n",
       "    <tr>\n",
       "      <th>43</th>\n",
       "      <td>1950</td>\n",
       "      <td>108</td>\n",
       "      <td>NaN</td>\n",
       "      <td>-18.0</td>\n",
       "      <td>36.9</td>\n",
       "    </tr>\n",
       "    <tr>\n",
       "      <th>44</th>\n",
       "      <td>1951</td>\n",
       "      <td>108</td>\n",
       "      <td>NaN</td>\n",
       "      <td>NaN</td>\n",
       "      <td>NaN</td>\n",
       "    </tr>\n",
       "    <tr>\n",
       "      <th>45</th>\n",
       "      <td>1952</td>\n",
       "      <td>108</td>\n",
       "      <td>NaN</td>\n",
       "      <td>NaN</td>\n",
       "      <td>NaN</td>\n",
       "    </tr>\n",
       "    <tr>\n",
       "      <th>46</th>\n",
       "      <td>1953</td>\n",
       "      <td>108</td>\n",
       "      <td>NaN</td>\n",
       "      <td>-9.2</td>\n",
       "      <td>16.2</td>\n",
       "    </tr>\n",
       "  </tbody>\n",
       "</table>\n",
       "</div>"
      ],
      "text/plain": [
       "      년도   지점  평균기온  최저기온  최고기온\n",
       "0   1907  108   NaN -20.1  25.4\n",
       "43  1950  108   NaN -18.0  36.9\n",
       "44  1951  108   NaN   NaN   NaN\n",
       "45  1952  108   NaN   NaN   NaN\n",
       "46  1953  108   NaN  -9.2  16.2"
      ]
     },
     "execution_count": 16,
     "metadata": {},
     "output_type": "execute_result"
    }
   ],
   "source": [
    "seoul_temp[seoul_temp[\"평균기온\"].isnull()]\n",
    "# 평균 기온이 NaN인 행을 출력한다."
   ]
  },
  {
   "cell_type": "code",
   "execution_count": 17,
   "metadata": {},
   "outputs": [
    {
     "data": {
      "text/html": [
       "<div>\n",
       "<style scoped>\n",
       "    .dataframe tbody tr th:only-of-type {\n",
       "        vertical-align: middle;\n",
       "    }\n",
       "\n",
       "    .dataframe tbody tr th {\n",
       "        vertical-align: top;\n",
       "    }\n",
       "\n",
       "    .dataframe thead th {\n",
       "        text-align: right;\n",
       "    }\n",
       "</style>\n",
       "<table border=\"1\" class=\"dataframe\">\n",
       "  <thead>\n",
       "    <tr style=\"text-align: right;\">\n",
       "      <th></th>\n",
       "      <th>년도</th>\n",
       "      <th>지점</th>\n",
       "      <th>평균기온</th>\n",
       "      <th>최저기온</th>\n",
       "      <th>최고기온</th>\n",
       "    </tr>\n",
       "  </thead>\n",
       "  <tbody>\n",
       "    <tr>\n",
       "      <th>1</th>\n",
       "      <td>1908</td>\n",
       "      <td>108</td>\n",
       "      <td>10.4</td>\n",
       "      <td>-15.8</td>\n",
       "      <td>33.6</td>\n",
       "    </tr>\n",
       "    <tr>\n",
       "      <th>2</th>\n",
       "      <td>1909</td>\n",
       "      <td>108</td>\n",
       "      <td>10.6</td>\n",
       "      <td>-14.6</td>\n",
       "      <td>35.6</td>\n",
       "    </tr>\n",
       "    <tr>\n",
       "      <th>3</th>\n",
       "      <td>1910</td>\n",
       "      <td>108</td>\n",
       "      <td>10.3</td>\n",
       "      <td>-19.9</td>\n",
       "      <td>33.3</td>\n",
       "    </tr>\n",
       "    <tr>\n",
       "      <th>4</th>\n",
       "      <td>1911</td>\n",
       "      <td>108</td>\n",
       "      <td>10.6</td>\n",
       "      <td>-21.5</td>\n",
       "      <td>34.5</td>\n",
       "    </tr>\n",
       "    <tr>\n",
       "      <th>5</th>\n",
       "      <td>1912</td>\n",
       "      <td>108</td>\n",
       "      <td>10.1</td>\n",
       "      <td>-18.6</td>\n",
       "      <td>34.0</td>\n",
       "    </tr>\n",
       "    <tr>\n",
       "      <th>...</th>\n",
       "      <td>...</td>\n",
       "      <td>...</td>\n",
       "      <td>...</td>\n",
       "      <td>...</td>\n",
       "      <td>...</td>\n",
       "    </tr>\n",
       "    <tr>\n",
       "      <th>110</th>\n",
       "      <td>2017</td>\n",
       "      <td>108</td>\n",
       "      <td>13.0</td>\n",
       "      <td>-12.6</td>\n",
       "      <td>35.4</td>\n",
       "    </tr>\n",
       "    <tr>\n",
       "      <th>111</th>\n",
       "      <td>2018</td>\n",
       "      <td>108</td>\n",
       "      <td>12.9</td>\n",
       "      <td>-17.8</td>\n",
       "      <td>39.6</td>\n",
       "    </tr>\n",
       "    <tr>\n",
       "      <th>112</th>\n",
       "      <td>2019</td>\n",
       "      <td>108</td>\n",
       "      <td>13.5</td>\n",
       "      <td>-10.9</td>\n",
       "      <td>36.8</td>\n",
       "    </tr>\n",
       "    <tr>\n",
       "      <th>113</th>\n",
       "      <td>2020</td>\n",
       "      <td>108</td>\n",
       "      <td>13.2</td>\n",
       "      <td>-12.9</td>\n",
       "      <td>35.4</td>\n",
       "    </tr>\n",
       "    <tr>\n",
       "      <th>114</th>\n",
       "      <td>2021</td>\n",
       "      <td>108</td>\n",
       "      <td>13.7</td>\n",
       "      <td>-18.6</td>\n",
       "      <td>36.5</td>\n",
       "    </tr>\n",
       "  </tbody>\n",
       "</table>\n",
       "<p>110 rows × 5 columns</p>\n",
       "</div>"
      ],
      "text/plain": [
       "       년도   지점  평균기온  최저기온  최고기온\n",
       "1    1908  108  10.4 -15.8  33.6\n",
       "2    1909  108  10.6 -14.6  35.6\n",
       "3    1910  108  10.3 -19.9  33.3\n",
       "4    1911  108  10.6 -21.5  34.5\n",
       "5    1912  108  10.1 -18.6  34.0\n",
       "..    ...  ...   ...   ...   ...\n",
       "110  2017  108  13.0 -12.6  35.4\n",
       "111  2018  108  12.9 -17.8  39.6\n",
       "112  2019  108  13.5 -10.9  36.8\n",
       "113  2020  108  13.2 -12.9  35.4\n",
       "114  2021  108  13.7 -18.6  36.5\n",
       "\n",
       "[110 rows x 5 columns]"
      ]
     },
     "execution_count": 17,
     "metadata": {},
     "output_type": "execute_result"
    }
   ],
   "source": [
    "seoul_temp_new = seoul_temp.dropna()\n",
    "# dropna()는 nan이 있는 행을 삭제 한다.\n",
    "\n",
    "seoul_temp_new"
   ]
  },
  {
   "cell_type": "code",
   "execution_count": 18,
   "metadata": {
    "scrolled": true
   },
   "outputs": [
    {
     "data": {
      "image/png": "[encoded data removed]",
      "text/plain": [
       "<Figure size 432x288 with 1 Axes>"
      ]
     },
     "metadata": {
      "needs_background": "light"
     },
     "output_type": "display_data"
    }
   ],
   "source": [
    "year = seoul_temp_new[\"년도\"]\n",
    "temp_mean = seoul_temp_new[\"평균기온\"]\n",
    "temp_min = seoul_temp_new[\"최저기온\"]\n",
    "temp_max = seoul_temp_new[\"최고기온\"]\n",
    "\n",
    "plt.rcParams['axes.unicode_minus'] = False\n",
    "plt.rc(\"font\", family=\"Malgun Gothic\")\n",
    "plt.xlabel(\"년도\")\n",
    "plt.ylabel(\"기온\")\n",
    "\n",
    "plt.plot(temp_min, color = \"green\", label=\"최고기온\")\n",
    "plt.plot(temp_max, color = \"skyblue\", label=\"최저기온\")\n",
    "plt.plot(temp_mean, color = \"hotpink\", label=\"평균기온\")\n",
    "\n",
    "plt.show()"
   ]
  },
  {
   "cell_type": "code",
   "execution_count": 19,
   "metadata": {},
   "outputs": [
    {
     "name": "stdout",
     "output_type": "stream",
     "text": [
      "[[1908]\n",
      " [1909]\n",
      " [1910]\n",
      " [1911]\n",
      " [1912]\n",
      " [1913]\n",
      " [1914]\n",
      " [1915]\n",
      " [1916]\n",
      " [1917]\n",
      " [1918]\n",
      " [1919]\n",
      " [1920]\n",
      " [1921]\n",
      " [1922]\n",
      " [1923]\n",
      " [1924]\n",
      " [1925]\n",
      " [1926]\n",
      " [1927]\n",
      " [1928]\n",
      " [1929]\n",
      " [1930]\n",
      " [1931]\n",
      " [1932]\n",
      " [1933]\n",
      " [1934]\n",
      " [1935]\n",
      " [1936]\n",
      " [1937]\n",
      " [1938]\n",
      " [1939]\n",
      " [1940]\n",
      " [1941]\n",
      " [1942]\n",
      " [1943]\n",
      " [1944]\n",
      " [1945]\n",
      " [1946]\n",
      " [1947]\n",
      " [1948]\n",
      " [1949]\n",
      " [1954]\n",
      " [1955]\n",
      " [1956]\n",
      " [1957]\n",
      " [1958]\n",
      " [1959]\n",
      " [1960]\n",
      " [1961]\n",
      " [1962]\n",
      " [1963]\n",
      " [1964]\n",
      " [1965]\n",
      " [1966]\n",
      " [1967]\n",
      " [1968]\n",
      " [1969]\n",
      " [1970]\n",
      " [1971]\n",
      " [1972]\n",
      " [1973]\n",
      " [1974]\n",
      " [1975]\n",
      " [1976]\n",
      " [1977]\n",
      " [1978]\n",
      " [1979]\n",
      " [1980]\n",
      " [1981]\n",
      " [1982]\n",
      " [1983]\n",
      " [1984]\n",
      " [1985]\n",
      " [1986]\n",
      " [1987]\n",
      " [1988]\n",
      " [1989]\n",
      " [1990]\n",
      " [1991]\n",
      " [1992]\n",
      " [1993]\n",
      " [1994]\n",
      " [1995]\n",
      " [1996]\n",
      " [1997]\n",
      " [1998]\n",
      " [1999]\n",
      " [2000]\n",
      " [2001]\n",
      " [2002]\n",
      " [2003]\n",
      " [2004]\n",
      " [2005]\n",
      " [2006]\n",
      " [2007]\n",
      " [2008]\n",
      " [2009]\n",
      " [2010]\n",
      " [2011]\n",
      " [2012]\n",
      " [2013]\n",
      " [2014]\n",
      " [2015]\n",
      " [2016]\n",
      " [2017]\n",
      " [2018]\n",
      " [2019]\n",
      " [2020]\n",
      " [2021]]\n",
      "[10.4 10.6 10.3 10.6 10.1 10.  12.  10.8 10.9  9.8 10.5 11.1 11.4 10.9\n",
      " 10.8 10.6 11.  10.7 10.5 11.  11.1 11.4 11.8 10.9 11.6 10.5 10.1 11.2\n",
      "  9.8 11.4 10.9 11.7 10.8 11.1 10.9 11.7 10.9 10.4 11.3  9.6 11.7 11.7\n",
      " 11.4 11.5 10.1 10.4 11.6 12.  12.1 12.4 11.7 11.3 12.2 11.4 11.5 11.6\n",
      " 11.8 10.9 11.4 11.5 11.9 12.  11.1 12.5 11.5 12.3 12.4 12.5 10.8 11.2\n",
      " 12.5 12.4 11.6 11.6 11.2 11.9 12.1 13.  12.8 12.3 12.5 12.  13.5 12.2\n",
      " 12.2 12.9 13.8 13.2 12.7 12.8 12.9 12.8 13.3 12.1 13.  13.3 12.9 12.9\n",
      " 12.1 12.  12.2 12.5 13.4 13.6 13.6 13.  12.9 13.5 13.2 13.7]\n"
     ]
    }
   ],
   "source": [
    "x = np.array(seoul_temp_new[\"년도\"]).reshape(-1, 1) # 독립 변수\n",
    "y = np.array(seoul_temp_new[\"평균기온\"]) # 종속 변수\n",
    "\n",
    "print(x)\n",
    "print(y)"
   ]
  },
  {
   "cell_type": "code",
   "execution_count": 20,
   "metadata": {
    "scrolled": true
   },
   "outputs": [
    {
     "data": {
      "image/png": "[encoded data removed]",
      "text/plain": [
       "<Figure size 432x288 with 1 Axes>"
      ]
     },
     "metadata": {
      "needs_background": "light"
     },
     "output_type": "display_data"
    }
   ],
   "source": [
    "from sklearn.model_selection import train_test_split\n",
    "\n",
    "x_train, x_test, y_train, y_test = train_test_split(x, y, shuffle=False)\n",
    "# shuffle에 False를 넣으면 데이터를 랜덤으로 만들지 않는다.\n",
    "\n",
    "plt.plot(x_train, y_train)\n",
    "plt.plot(x_test, y_test)\n",
    "\n",
    "plt.show()"
   ]
  },
  {
   "cell_type": "code",
   "execution_count": 21,
   "metadata": {},
   "outputs": [
    {
     "data": {
      "text/plain": [
       "LinearRegression()"
      ]
     },
     "execution_count": 21,
     "metadata": {},
     "output_type": "execute_result"
    }
   ],
   "source": [
    "from sklearn.linear_model import LinearRegression\n",
    "\n",
    "model_lr = LinearRegression()\n",
    "model_lr.fit(x_train, y_train)"
   ]
  },
  {
   "cell_type": "markdown",
   "metadata": {},
   "source": [
    "# 0512 수업\n",
    "- 데이터 예측\n",
    "- 데이터 평가"
   ]
  },
  {
   "cell_type": "code",
   "execution_count": 28,
   "metadata": {},
   "outputs": [
    {
     "name": "stdout",
     "output_type": "stream",
     "text": [
      "[12.8853783]\n",
      "[13.28151817]\n"
     ]
    }
   ],
   "source": [
    "print(model_lr.predict([[2030]]))\n",
    "print(model_lr.predict([[2050]]))"
   ]
  },
  {
   "cell_type": "code",
   "execution_count": 42,
   "metadata": {},
   "outputs": [
    {
     "data": {
      "image/png": "[encoded data removed]",
      "text/plain": [
       "<Figure size 432x288 with 1 Axes>"
      ]
     },
     "metadata": {
      "needs_background": "light"
     },
     "output_type": "display_data"
    }
   ],
   "source": [
    "x_line = np.arange(1908, 2050).reshape(-1, 1)\n",
    "y_line = model_lr.predict(x_line)\n",
    "\n",
    "plt.xlabel(\"년도\")\n",
    "plt.ylabel(\"기온\")\n",
    "\n",
    "plt.plot(x_train, y_train)\n",
    "plt.plot(x_test, y_test)\n",
    "plt.plot(x_line, y_line, \"r\")\n",
    "\n",
    "plt.show()"
   ]
  },
  {
   "cell_type": "code",
   "execution_count": 43,
   "metadata": {},
   "outputs": [
    {
     "data": {
      "text/plain": [
       "array([12.70711535, 12.72692235, 12.74672934, 12.76653633, 12.78634333,\n",
       "       12.80615032, 12.82595732, 12.84576431, 12.8655713 , 12.8853783 ,\n",
       "       12.90518529, 12.92499228, 12.94479928, 12.96460627, 12.98441327,\n",
       "       13.00422026, 13.02402725, 13.04383425, 13.06364124, 13.08344823,\n",
       "       13.10325523, 13.12306222, 13.14286922, 13.16267621, 13.1824832 ,\n",
       "       13.2022902 , 13.22209719, 13.24190418, 13.26171118])"
      ]
     },
     "execution_count": 43,
     "metadata": {},
     "output_type": "execute_result"
    }
   ],
   "source": [
    "temp_predict = y_line[-29:]\n",
    "\n",
    "temp_predict"
   ]
  },
  {
   "cell_type": "code",
   "execution_count": 52,
   "metadata": {},
   "outputs": [
    {
     "name": "stdout",
     "output_type": "stream",
     "text": [
      "2022년의 평균 기온 : 12.71\n",
      "2023년의 평균 기온 : 12.73\n",
      "2024년의 평균 기온 : 12.75\n",
      "2025년의 평균 기온 : 12.77\n",
      "2026년의 평균 기온 : 12.79\n",
      "2027년의 평균 기온 : 12.81\n",
      "2028년의 평균 기온 : 12.83\n",
      "2029년의 평균 기온 : 12.85\n",
      "2030년의 평균 기온 : 12.87\n",
      "2031년의 평균 기온 : 12.89\n",
      "2032년의 평균 기온 : 12.91\n",
      "2033년의 평균 기온 : 12.92\n",
      "2034년의 평균 기온 : 12.94\n",
      "2035년의 평균 기온 : 12.96\n",
      "2036년의 평균 기온 : 12.98\n",
      "2037년의 평균 기온 : 13.00\n",
      "2038년의 평균 기온 : 13.02\n",
      "2039년의 평균 기온 : 13.04\n",
      "2040년의 평균 기온 : 13.06\n",
      "2041년의 평균 기온 : 13.08\n",
      "2042년의 평균 기온 : 13.10\n",
      "2043년의 평균 기온 : 13.12\n",
      "2044년의 평균 기온 : 13.14\n",
      "2045년의 평균 기온 : 13.16\n",
      "2046년의 평균 기온 : 13.18\n",
      "2047년의 평균 기온 : 13.20\n",
      "2048년의 평균 기온 : 13.22\n",
      "2049년의 평균 기온 : 13.24\n",
      "2050년의 평균 기온 : 13.26\n"
     ]
    }
   ],
   "source": [
    "for i in range(29):\n",
    "    year = 2022 + i\n",
    "    print(\"%d년의 평균 기온 : %.2f\" %(year, temp_predict[i]) )\n",
    "    "
   ]
  },
  {
   "cell_type": "code",
   "execution_count": 59,
   "metadata": {},
   "outputs": [
    {
     "data": {
      "text/plain": [
       "-0.8537483850168142"
      ]
     },
     "execution_count": 59,
     "metadata": {},
     "output_type": "execute_result"
    }
   ],
   "source": [
    "model_lr.score(x_test, y_test)"
   ]
  },
  {
   "cell_type": "code",
   "execution_count": null,
   "metadata": {},
   "outputs": [],
   "source": []
  }
 ],
 "metadata": {
  "kernelspec": {
   "display_name": "Python 3 (ipykernel)",
   "language": "python",
   "name": "python3"
  },
  "language_info": {
   "codemirror_mode": {
    "name": "ipython",
    "version": 3
   },
   "file_extension": ".py",
   "mimetype": "text/x-python",
   "name": "python",
   "nbconvert_exporter": "python",
   "pygments_lexer": "ipython3",
   "version": "3.8.12"
  }
 },
 "nbformat": 4,
 "nbformat_minor": 4
}
